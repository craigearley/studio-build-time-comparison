{
 "cells": [
  {
   "cell_type": "code",
   "execution_count": 1,
   "metadata": {},
   "outputs": [],
   "source": [
    "import numpy as np\n",
    "import pandas as pd\n",
    "import matplotlib.pyplot as plt\n",
    "import seaborn as sns\n",
    "import datetime"
   ]
  },
  {
   "cell_type": "code",
   "execution_count": 2,
   "metadata": {},
   "outputs": [
    {
     "data": {
      "text/html": [
       "<div>\n",
       "<style scoped>\n",
       "    .dataframe tbody tr th:only-of-type {\n",
       "        vertical-align: middle;\n",
       "    }\n",
       "\n",
       "    .dataframe tbody tr th {\n",
       "        vertical-align: top;\n",
       "    }\n",
       "\n",
       "    .dataframe thead th {\n",
       "        text-align: right;\n",
       "    }\n",
       "</style>\n",
       "<table border=\"1\" class=\"dataframe\">\n",
       "  <thead>\n",
       "    <tr style=\"text-align: right;\">\n",
       "      <th></th>\n",
       "      <th>app</th>\n",
       "      <th>laptop</th>\n",
       "      <th>step</th>\n",
       "      <th>time</th>\n",
       "    </tr>\n",
       "    <tr>\n",
       "      <th>id</th>\n",
       "      <th></th>\n",
       "      <th></th>\n",
       "      <th></th>\n",
       "      <th></th>\n",
       "    </tr>\n",
       "  </thead>\n",
       "  <tbody>\n",
       "    <tr>\n",
       "      <th>0</th>\n",
       "      <td>Field Day</td>\n",
       "      <td>old</td>\n",
       "      <td>synced successfully</td>\n",
       "      <td>64.736</td>\n",
       "    </tr>\n",
       "    <tr>\n",
       "      <th>1</th>\n",
       "      <td>Field Day</td>\n",
       "      <td>old</td>\n",
       "      <td>completed successfully</td>\n",
       "      <td>4.705</td>\n",
       "    </tr>\n",
       "    <tr>\n",
       "      <th>2</th>\n",
       "      <td>Field Day</td>\n",
       "      <td>old</td>\n",
       "      <td>build and install</td>\n",
       "      <td>59.349</td>\n",
       "    </tr>\n",
       "    <tr>\n",
       "      <th>3</th>\n",
       "      <td>Major Tom</td>\n",
       "      <td>old</td>\n",
       "      <td>synced successfully</td>\n",
       "      <td>61.274</td>\n",
       "    </tr>\n",
       "    <tr>\n",
       "      <th>4</th>\n",
       "      <td>Major Tom</td>\n",
       "      <td>old</td>\n",
       "      <td>completed successfully</td>\n",
       "      <td>2.674</td>\n",
       "    </tr>\n",
       "    <tr>\n",
       "      <th>5</th>\n",
       "      <td>Major Tom</td>\n",
       "      <td>old</td>\n",
       "      <td>build and install</td>\n",
       "      <td>96.861</td>\n",
       "    </tr>\n",
       "    <tr>\n",
       "      <th>6</th>\n",
       "      <td>Field Day</td>\n",
       "      <td>new</td>\n",
       "      <td>synced successfully</td>\n",
       "      <td>15.363</td>\n",
       "    </tr>\n",
       "    <tr>\n",
       "      <th>7</th>\n",
       "      <td>Field Day</td>\n",
       "      <td>new</td>\n",
       "      <td>completed successfully</td>\n",
       "      <td>1.368</td>\n",
       "    </tr>\n",
       "    <tr>\n",
       "      <th>8</th>\n",
       "      <td>Field Day</td>\n",
       "      <td>new</td>\n",
       "      <td>build and install</td>\n",
       "      <td>11.600</td>\n",
       "    </tr>\n",
       "    <tr>\n",
       "      <th>9</th>\n",
       "      <td>Major Tom</td>\n",
       "      <td>new</td>\n",
       "      <td>synced successfully</td>\n",
       "      <td>14.375</td>\n",
       "    </tr>\n",
       "    <tr>\n",
       "      <th>10</th>\n",
       "      <td>Major Tom</td>\n",
       "      <td>new</td>\n",
       "      <td>completed successfully</td>\n",
       "      <td>1.358</td>\n",
       "    </tr>\n",
       "    <tr>\n",
       "      <th>11</th>\n",
       "      <td>Major Tom</td>\n",
       "      <td>new</td>\n",
       "      <td>build and install</td>\n",
       "      <td>34.280</td>\n",
       "    </tr>\n",
       "  </tbody>\n",
       "</table>\n",
       "</div>"
      ],
      "text/plain": [
       "          app laptop                    step    time\n",
       "id                                                  \n",
       "0   Field Day    old     synced successfully  64.736\n",
       "1   Field Day    old  completed successfully   4.705\n",
       "2   Field Day    old       build and install  59.349\n",
       "3   Major Tom    old     synced successfully  61.274\n",
       "4   Major Tom    old  completed successfully   2.674\n",
       "5   Major Tom    old       build and install  96.861\n",
       "6   Field Day    new     synced successfully  15.363\n",
       "7   Field Day    new  completed successfully   1.368\n",
       "8   Field Day    new       build and install  11.600\n",
       "9   Major Tom    new     synced successfully  14.375\n",
       "10  Major Tom    new  completed successfully   1.358\n",
       "11  Major Tom    new       build and install  34.280"
      ]
     },
     "execution_count": 2,
     "metadata": {},
     "output_type": "execute_result"
    }
   ],
   "source": [
    "filename = 'android-studio-data.csv'\n",
    "studio_data = pd.read_csv(filename,header=None)\n",
    "studio_data = studio_data.rename(columns={0:\"app\",1:\"laptop\",2:\"step\",3:\"time\"})\n",
    "studio_data['app'] = studio_data['app'].replace({\"fieldday\":\"Field Day\",\"majortom\":\"Major Tom\"})\n",
    "studio_data.index.names=['id']\n",
    "studio_data"
   ]
  },
  {
   "cell_type": "code",
   "execution_count": 3,
   "metadata": {},
   "outputs": [],
   "source": [
    "old_data = studio_data.loc[studio_data['laptop']=='old']\n",
    "new_data = studio_data.loc[studio_data['laptop']=='new']"
   ]
  },
  {
   "cell_type": "code",
   "execution_count": 6,
   "metadata": {},
   "outputs": [
    {
     "data": {
      "image/png": "[encoded data removed]",
      "text/plain": [
       "<Figure size 1152x648 with 1 Axes>"
      ]
     },
     "metadata": {},
     "output_type": "display_data"
    }
   ],
   "source": [
    "sns.set()\n",
    "\n",
    "fig, ax = plt.subplots(figsize=(16,9))\n",
    "index_new = new_data.index.values-6\n",
    "index_old = old_data.index.values\n",
    "bar_width = .4\n",
    "\n",
    "bars_old = plt.bar(index_old, old_data['time'], bar_width, color='gray', label='Early 2015 MacBook Air 11\\\"')\n",
    "bars_new = plt.bar(index_new + bar_width, new_data['time'], bar_width, color='teal', label='2019 MacBook Pro 16\\\"')\n",
    "\n",
    "plt.xlabel('Step')\n",
    "plt.ylabel('Time (sec)')\n",
    "plt.title('Times')\n",
    "plt.xticks(index_old + bar_width)\n",
    "plt.legend()\n",
    "plt.show()"
   ]
  },
  {
   "cell_type": "markdown",
   "metadata": {},
   "source": [
    "To do\n",
    "- use the step string rather than an arbitrary number as the tick marks on x axis\n",
    "- better data model? maybe too small a dataset to bother\n",
    "- better colors\n",
    "- bigger display"
   ]
  },
  {
   "cell_type": "code",
   "execution_count": null,
   "metadata": {},
   "outputs": [],
   "source": []
  }
 ],
 "metadata": {
  "kernelspec": {
   "display_name": "Python 3",
   "language": "python",
   "name": "python3"
  },
  "language_info": {
   "codemirror_mode": {
    "name": "ipython",
    "version": 3
   },
   "file_extension": ".py",
   "mimetype": "text/x-python",
   "name": "python",
   "nbconvert_exporter": "python",
   "pygments_lexer": "ipython3",
   "version": "3.8.0"
  }
 },
 "nbformat": 4,
 "nbformat_minor": 2
}
